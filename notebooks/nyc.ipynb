{
 "cells": [
  {
   "cell_type": "markdown",
   "metadata": {},
   "source": [
    "## Exploratory Data Analysis : NYC Rat Sightings"
   ]
  },
  {
   "cell_type": "code",
   "execution_count": 37,
   "metadata": {},
   "outputs": [],
   "source": [
    "import pandas as pd\n",
    "import matplotlib.pyplot as plt\n",
    "import matplotlib.pylab as pylab\n",
    "from matplotlib.ticker import FuncFormatter\n",
    "from pywaffle import Waffle\n",
    "\n",
    "%matplotlib inline"
   ]
  },
  {
   "cell_type": "code",
   "execution_count": 38,
   "metadata": {},
   "outputs": [],
   "source": [
    "df = pd.read_csv(\"../dataset/rat_sightings.csv\", encoding = \"utf-8\", sep='\\t')"
   ]
  },
  {
   "cell_type": "code",
   "execution_count": 39,
   "metadata": {},
   "outputs": [
    {
     "data": {
      "text/html": [
       "<div>\n",
       "<style scoped>\n",
       "    .dataframe tbody tr th:only-of-type {\n",
       "        vertical-align: middle;\n",
       "    }\n",
       "\n",
       "    .dataframe tbody tr th {\n",
       "        vertical-align: top;\n",
       "    }\n",
       "\n",
       "    .dataframe thead th {\n",
       "        text-align: right;\n",
       "    }\n",
       "</style>\n",
       "<table border=\"1\" class=\"dataframe\">\n",
       "  <thead>\n",
       "    <tr style=\"text-align: right;\">\n",
       "      <th></th>\n",
       "      <th>Address Type</th>\n",
       "      <th>Agency Name</th>\n",
       "      <th>Agency</th>\n",
       "      <th>Borough</th>\n",
       "      <th>City</th>\n",
       "      <th>Closed Date</th>\n",
       "      <th>Community Board</th>\n",
       "      <th>Complaint Type</th>\n",
       "      <th>Created Date</th>\n",
       "      <th>Cross Street 1</th>\n",
       "      <th>...</th>\n",
       "      <th>Landmark</th>\n",
       "      <th>Latitude</th>\n",
       "      <th>Location Type</th>\n",
       "      <th>Longitude</th>\n",
       "      <th>Park Borough</th>\n",
       "      <th>Park Facility Name</th>\n",
       "      <th>Resolution Action Updated Date</th>\n",
       "      <th>Status</th>\n",
       "      <th>Street Name</th>\n",
       "      <th>Unique Key</th>\n",
       "    </tr>\n",
       "  </thead>\n",
       "  <tbody>\n",
       "    <tr>\n",
       "      <th>0</th>\n",
       "      <td>ADDRESS</td>\n",
       "      <td>Department of Health and Mental Hygiene</td>\n",
       "      <td>DOHMH</td>\n",
       "      <td>QUEENS</td>\n",
       "      <td>Jamaica</td>\n",
       "      <td>09/11/2013 0:00</td>\n",
       "      <td>12 QUEENS</td>\n",
       "      <td>Rodent</td>\n",
       "      <td>09/05/2013 0:00</td>\n",
       "      <td>134 AVENUE</td>\n",
       "      <td>...</td>\n",
       "      <td>NaN</td>\n",
       "      <td>40.670256</td>\n",
       "      <td>Other (Explain Below)</td>\n",
       "      <td>-73.782029</td>\n",
       "      <td>QUEENS</td>\n",
       "      <td>Unspecified</td>\n",
       "      <td>11/09/2013 0:00</td>\n",
       "      <td>Closed</td>\n",
       "      <td>154 STREET</td>\n",
       "      <td>26263809</td>\n",
       "    </tr>\n",
       "    <tr>\n",
       "      <th>1</th>\n",
       "      <td>NaN</td>\n",
       "      <td>Department of Health and Mental Hygiene</td>\n",
       "      <td>DOHMH</td>\n",
       "      <td>MANHATTAN</td>\n",
       "      <td>NaN</td>\n",
       "      <td>20/09/2013 21:55</td>\n",
       "      <td>Unspecified MANHATTAN</td>\n",
       "      <td>Rodent</td>\n",
       "      <td>09/05/2013 0:00</td>\n",
       "      <td>170 160</td>\n",
       "      <td>...</td>\n",
       "      <td>NaN</td>\n",
       "      <td>NaN</td>\n",
       "      <td>Other (Explain Below)</td>\n",
       "      <td>NaN</td>\n",
       "      <td>MANHATTAN</td>\n",
       "      <td>Unspecified</td>\n",
       "      <td>09/20/2013 09:55:49 PM</td>\n",
       "      <td>Closed</td>\n",
       "      <td>NaN</td>\n",
       "      <td>26263848</td>\n",
       "    </tr>\n",
       "    <tr>\n",
       "      <th>2</th>\n",
       "      <td>ADDRESS</td>\n",
       "      <td>Department of Health and Mental Hygiene</td>\n",
       "      <td>DOHMH</td>\n",
       "      <td>MANHATTAN</td>\n",
       "      <td>NEW YORK</td>\n",
       "      <td>30/08/2013 0:00</td>\n",
       "      <td>10 MANHATTAN</td>\n",
       "      <td>Rodent</td>\n",
       "      <td>09/05/2013 0:00</td>\n",
       "      <td>WEST 113 STREET</td>\n",
       "      <td>...</td>\n",
       "      <td>NaN</td>\n",
       "      <td>40.802798</td>\n",
       "      <td>3+ Family Apt. Building</td>\n",
       "      <td>-73.956540</td>\n",
       "      <td>MANHATTAN</td>\n",
       "      <td>Unspecified</td>\n",
       "      <td>05/09/2013 16:39</td>\n",
       "      <td>Pending</td>\n",
       "      <td>8 AVENUE</td>\n",
       "      <td>26264065</td>\n",
       "    </tr>\n",
       "    <tr>\n",
       "      <th>3</th>\n",
       "      <td>ADDRESS</td>\n",
       "      <td>Department of Health and Mental Hygiene</td>\n",
       "      <td>DOHMH</td>\n",
       "      <td>QUEENS</td>\n",
       "      <td>Bellerose</td>\n",
       "      <td>09/05/2013 0:00</td>\n",
       "      <td>13 QUEENS</td>\n",
       "      <td>Rodent</td>\n",
       "      <td>09/05/2013 0:00</td>\n",
       "      <td>81 AVENUE</td>\n",
       "      <td>...</td>\n",
       "      <td>NaN</td>\n",
       "      <td>40.739742</td>\n",
       "      <td>Other (Explain Below)</td>\n",
       "      <td>-73.722953</td>\n",
       "      <td>QUEENS</td>\n",
       "      <td>Unspecified</td>\n",
       "      <td>05/09/2013 13:39</td>\n",
       "      <td>Closed</td>\n",
       "      <td>246 STREET</td>\n",
       "      <td>26264334</td>\n",
       "    </tr>\n",
       "    <tr>\n",
       "      <th>4</th>\n",
       "      <td>ADDRESS</td>\n",
       "      <td>Department of Health and Mental Hygiene</td>\n",
       "      <td>DOHMH</td>\n",
       "      <td>BROOKLYN</td>\n",
       "      <td>BROOKLYN</td>\n",
       "      <td>09/09/2013 0:00</td>\n",
       "      <td>04 BROOKLYN</td>\n",
       "      <td>Rodent</td>\n",
       "      <td>09/05/2013 0:00</td>\n",
       "      <td>CENTRAL AVENUE</td>\n",
       "      <td>...</td>\n",
       "      <td>NaN</td>\n",
       "      <td>40.692298</td>\n",
       "      <td>3+ Family Apt. Building</td>\n",
       "      <td>-73.913437</td>\n",
       "      <td>BROOKLYN</td>\n",
       "      <td>Unspecified</td>\n",
       "      <td>09/09/2013 0:00</td>\n",
       "      <td>Closed</td>\n",
       "      <td>CORNELIA STREET</td>\n",
       "      <td>26264441</td>\n",
       "    </tr>\n",
       "  </tbody>\n",
       "</table>\n",
       "<p>5 rows × 28 columns</p>\n",
       "</div>"
      ],
      "text/plain": [
       "  Address Type                              Agency Name Agency    Borough  \\\n",
       "0      ADDRESS  Department of Health and Mental Hygiene  DOHMH     QUEENS   \n",
       "1          NaN  Department of Health and Mental Hygiene  DOHMH  MANHATTAN   \n",
       "2      ADDRESS  Department of Health and Mental Hygiene  DOHMH  MANHATTAN   \n",
       "3      ADDRESS  Department of Health and Mental Hygiene  DOHMH     QUEENS   \n",
       "4      ADDRESS  Department of Health and Mental Hygiene  DOHMH   BROOKLYN   \n",
       "\n",
       "        City       Closed Date        Community Board Complaint Type  \\\n",
       "0    Jamaica   09/11/2013 0:00              12 QUEENS         Rodent   \n",
       "1        NaN  20/09/2013 21:55  Unspecified MANHATTAN         Rodent   \n",
       "2   NEW YORK   30/08/2013 0:00           10 MANHATTAN         Rodent   \n",
       "3  Bellerose   09/05/2013 0:00              13 QUEENS         Rodent   \n",
       "4   BROOKLYN   09/09/2013 0:00            04 BROOKLYN         Rodent   \n",
       "\n",
       "      Created Date   Cross Street 1  ... Landmark   Latitude  \\\n",
       "0  09/05/2013 0:00       134 AVENUE  ...      NaN  40.670256   \n",
       "1  09/05/2013 0:00          170 160  ...      NaN        NaN   \n",
       "2  09/05/2013 0:00  WEST 113 STREET  ...      NaN  40.802798   \n",
       "3  09/05/2013 0:00        81 AVENUE  ...      NaN  40.739742   \n",
       "4  09/05/2013 0:00   CENTRAL AVENUE  ...      NaN  40.692298   \n",
       "\n",
       "             Location Type  Longitude Park Borough  Park Facility Name  \\\n",
       "0    Other (Explain Below) -73.782029       QUEENS         Unspecified   \n",
       "1    Other (Explain Below)        NaN    MANHATTAN         Unspecified   \n",
       "2  3+ Family Apt. Building -73.956540    MANHATTAN         Unspecified   \n",
       "3    Other (Explain Below) -73.722953       QUEENS         Unspecified   \n",
       "4  3+ Family Apt. Building -73.913437     BROOKLYN         Unspecified   \n",
       "\n",
       "  Resolution Action Updated Date   Status      Street Name  Unique Key  \n",
       "0                11/09/2013 0:00   Closed       154 STREET    26263809  \n",
       "1         09/20/2013 09:55:49 PM   Closed              NaN    26263848  \n",
       "2               05/09/2013 16:39  Pending         8 AVENUE    26264065  \n",
       "3               05/09/2013 13:39   Closed       246 STREET    26264334  \n",
       "4                09/09/2013 0:00   Closed  CORNELIA STREET    26264441  \n",
       "\n",
       "[5 rows x 28 columns]"
      ]
     },
     "execution_count": 39,
     "metadata": {},
     "output_type": "execute_result"
    }
   ],
   "source": [
    "df.head(5)"
   ]
  },
  {
   "cell_type": "markdown",
   "metadata": {},
   "source": [
    "### dataset summary"
   ]
  },
  {
   "cell_type": "code",
   "execution_count": 62,
   "metadata": {},
   "outputs": [
    {
     "data": {
      "text/html": [
       "<div>\n",
       "<style scoped>\n",
       "    .dataframe tbody tr th:only-of-type {\n",
       "        vertical-align: middle;\n",
       "    }\n",
       "\n",
       "    .dataframe tbody tr th {\n",
       "        vertical-align: top;\n",
       "    }\n",
       "\n",
       "    .dataframe thead th {\n",
       "        text-align: right;\n",
       "    }\n",
       "</style>\n",
       "<table border=\"1\" class=\"dataframe\">\n",
       "  <thead>\n",
       "    <tr style=\"text-align: right;\">\n",
       "      <th></th>\n",
       "      <th>Facility Type</th>\n",
       "      <th>Incident Zip</th>\n",
       "      <th>Latitude</th>\n",
       "      <th>Longitude</th>\n",
       "      <th>Unique Key</th>\n",
       "    </tr>\n",
       "  </thead>\n",
       "  <tbody>\n",
       "    <tr>\n",
       "      <th>count</th>\n",
       "      <td>0.0</td>\n",
       "      <td>114129.000000</td>\n",
       "      <td>113713.000000</td>\n",
       "      <td>113713.000000</td>\n",
       "      <td>1.145070e+05</td>\n",
       "    </tr>\n",
       "    <tr>\n",
       "      <th>mean</th>\n",
       "      <td>NaN</td>\n",
       "      <td>10733.369231</td>\n",
       "      <td>40.738973</td>\n",
       "      <td>-73.934195</td>\n",
       "      <td>2.928636e+07</td>\n",
       "    </tr>\n",
       "    <tr>\n",
       "      <th>std</th>\n",
       "      <td>NaN</td>\n",
       "      <td>623.578914</td>\n",
       "      <td>0.081989</td>\n",
       "      <td>0.070172</td>\n",
       "      <td>6.523692e+06</td>\n",
       "    </tr>\n",
       "    <tr>\n",
       "      <th>min</th>\n",
       "      <td>NaN</td>\n",
       "      <td>83.000000</td>\n",
       "      <td>40.499502</td>\n",
       "      <td>-74.254437</td>\n",
       "      <td>1.146439e+07</td>\n",
       "    </tr>\n",
       "    <tr>\n",
       "      <th>25%</th>\n",
       "      <td>NaN</td>\n",
       "      <td>10128.000000</td>\n",
       "      <td>40.679485</td>\n",
       "      <td>-73.966225</td>\n",
       "      <td>2.392620e+07</td>\n",
       "    </tr>\n",
       "    <tr>\n",
       "      <th>50%</th>\n",
       "      <td>NaN</td>\n",
       "      <td>10472.000000</td>\n",
       "      <td>40.724496</td>\n",
       "      <td>-73.938428</td>\n",
       "      <td>3.028497e+07</td>\n",
       "    </tr>\n",
       "    <tr>\n",
       "      <th>75%</th>\n",
       "      <td>NaN</td>\n",
       "      <td>11222.000000</td>\n",
       "      <td>40.814804</td>\n",
       "      <td>-73.899876</td>\n",
       "      <td>3.477013e+07</td>\n",
       "    </tr>\n",
       "    <tr>\n",
       "      <th>max</th>\n",
       "      <td>NaN</td>\n",
       "      <td>100354.000000</td>\n",
       "      <td>40.912869</td>\n",
       "      <td>-73.701632</td>\n",
       "      <td>3.955749e+07</td>\n",
       "    </tr>\n",
       "  </tbody>\n",
       "</table>\n",
       "</div>"
      ],
      "text/plain": [
       "       Facility Type   Incident Zip       Latitude      Longitude  \\\n",
       "count            0.0  114129.000000  113713.000000  113713.000000   \n",
       "mean             NaN   10733.369231      40.738973     -73.934195   \n",
       "std              NaN     623.578914       0.081989       0.070172   \n",
       "min              NaN      83.000000      40.499502     -74.254437   \n",
       "25%              NaN   10128.000000      40.679485     -73.966225   \n",
       "50%              NaN   10472.000000      40.724496     -73.938428   \n",
       "75%              NaN   11222.000000      40.814804     -73.899876   \n",
       "max              NaN  100354.000000      40.912869     -73.701632   \n",
       "\n",
       "         Unique Key  \n",
       "count  1.145070e+05  \n",
       "mean   2.928636e+07  \n",
       "std    6.523692e+06  \n",
       "min    1.146439e+07  \n",
       "25%    2.392620e+07  \n",
       "50%    3.028497e+07  \n",
       "75%    3.477013e+07  \n",
       "max    3.955749e+07  "
      ]
     },
     "execution_count": 62,
     "metadata": {},
     "output_type": "execute_result"
    }
   ],
   "source": [
    "df.describe()"
   ]
  },
  {
   "cell_type": "markdown",
   "metadata": {},
   "source": [
    "## Data Types"
   ]
  },
  {
   "cell_type": "code",
   "execution_count": 41,
   "metadata": {},
   "outputs": [
    {
     "data": {
      "text/plain": [
       "Address Type                       object\n",
       "Agency Name                        object\n",
       "Agency                             object\n",
       "Borough                            object\n",
       "City                               object\n",
       "Closed Date                        object\n",
       "Community Board                    object\n",
       "Complaint Type                     object\n",
       "Created Date                       object\n",
       "Cross Street 1                     object\n",
       "Cross Street 2                     object\n",
       "Descriptor                         object\n",
       "Due Date                           object\n",
       "Facility Type                     float64\n",
       "Incident Address                   object\n",
       "Incident Zip                      float64\n",
       "Intersection Street 1              object\n",
       "Intersection Street 2              object\n",
       "Landmark                           object\n",
       "Latitude                          float64\n",
       "Location Type                      object\n",
       "Longitude                         float64\n",
       "Park Borough                       object\n",
       "Park Facility Name                 object\n",
       "Resolution Action Updated Date     object\n",
       "Status                             object\n",
       "Street Name                        object\n",
       "Unique Key                          int64\n",
       "dtype: object"
      ]
     },
     "execution_count": 41,
     "metadata": {},
     "output_type": "execute_result"
    }
   ],
   "source": [
    "df.dtypes"
   ]
  },
  {
   "cell_type": "markdown",
   "metadata": {},
   "source": [
    "## Frequency Distribution by City"
   ]
  },
  {
   "cell_type": "code",
   "execution_count": 42,
   "metadata": {},
   "outputs": [
    {
     "data": {
      "text/plain": [
       "BROOKLYN            39355\n",
       "NEW YORK            29680\n",
       "BRONX               23062\n",
       "STATEN ISLAND        5398\n",
       "Jamaica              1440\n",
       "JAMAICA              1018\n",
       "Ridgewood             952\n",
       "RIDGEWOOD             810\n",
       "Astoria               719\n",
       "Woodside              540\n",
       "Flushing              445\n",
       "ASTORIA               440\n",
       "WOODSIDE              394\n",
       "Corona                353\n",
       "Elmhurst              347\n",
       "Long Island City      344\n",
       "Ozone Park            340\n",
       "Jackson Heights       329\n",
       "Saint Albans          312\n",
       "LONG ISLAND CITY      294\n",
       "FLUSHING              259\n",
       "Maspeth               248\n",
       "Middle Village        234\n",
       "ELMHURST              232\n",
       "CORONA                227\n",
       "Rego Park             223\n",
       "Queens Village        223\n",
       "SAINT ALBANS          219\n",
       "MASPETH               216\n",
       "East Elmhurst         213\n",
       "                    ...  \n",
       "CAMBRIA HEIGHTS        47\n",
       "Little Neck            45\n",
       "OAKLAND GARDENS        42\n",
       "COLLEGE POINT          38\n",
       "ARVERNE                33\n",
       "Floral Park            27\n",
       "Oakland Gardens        25\n",
       "ROCKAWAY PARK          25\n",
       "CENTRAL PARK           23\n",
       "KEW GARDENS            21\n",
       "FLORAL PARK            21\n",
       "QUEENS                 21\n",
       "LITTLE NECK            20\n",
       "Glen Oaks              19\n",
       "GLEN OAKS               7\n",
       "New Hyde Park           6\n",
       "MANHATTAN               6\n",
       "NEW HYDE PARK           3\n",
       "CLERMONT                1\n",
       "BRONX NY                1\n",
       "BROOKYN NY              1\n",
       "BRICKTOWN               1\n",
       "NEW YORK CITY           1\n",
       "BEDSTUY                 1\n",
       "Breezy Point            1\n",
       "FORREST HILLS           1\n",
       "GLENDALE                1\n",
       "BROOLKYN                1\n",
       "RICHMOND COUNTY         1\n",
       "BROOKYLN                1\n",
       "Name: City, Length: 101, dtype: int64"
      ]
     },
     "execution_count": 42,
     "metadata": {},
     "output_type": "execute_result"
    }
   ],
   "source": [
    "df['City'].value_counts()"
   ]
  },
  {
   "cell_type": "code",
   "execution_count": 43,
   "metadata": {},
   "outputs": [
    {
     "data": {
      "text/plain": [
       "<matplotlib.axes._subplots.AxesSubplot at 0x12874f250>"
      ]
     },
     "execution_count": 43,
     "metadata": {},
     "output_type": "execute_result"
    },
    {
     "data": {
      "image/png": "[encoded data removed]",
      "text/plain": [
       "<Figure size 1440x720 with 1 Axes>"
      ]
     },
     "metadata": {
      "needs_background": "light"
     },
     "output_type": "display_data"
    }
   ],
   "source": [
    "df['City'].value_counts()[:10].plot.bar(rot=0,figsize=(20,10))"
   ]
  },
  {
   "cell_type": "code",
   "execution_count": 44,
   "metadata": {},
   "outputs": [
    {
     "data": {
      "text/plain": [
       "BROOKLYN         39487\n",
       "MANHATTAN        29837\n",
       "BRONX            23109\n",
       "QUEENS           16645\n",
       "STATEN ISLAND     5425\n",
       "Unspecified          4\n",
       "Name: Borough, dtype: int64"
      ]
     },
     "execution_count": 44,
     "metadata": {},
     "output_type": "execute_result"
    }
   ],
   "source": [
    "df.Borough.value_counts()"
   ]
  },
  {
   "cell_type": "code",
   "execution_count": 45,
   "metadata": {},
   "outputs": [
    {
     "data": {
      "image/png": "[encoded data removed]",
      "text/plain": [
       "<Figure size 720x504 with 1 Axes>"
      ]
     },
     "metadata": {
      "needs_background": "light"
     },
     "output_type": "display_data"
    }
   ],
   "source": [
    "colors = ['red','green','blue']\n",
    "\n",
    "ax = df.Borough.value_counts().sort_values(ascending=True).tail(5).plot(kind='bar', color=colors, figsize=(10,7))\n",
    "\n",
    "ax.set_title('Frequency of complaints by boroughs', pad=2)\n",
    "ax.title.set_fontname('Franklin Gothic Heavy')\n",
    "\n",
    "ax.grid(True, axis='x', linestyle=':', linewidth=0.3)\n",
    "\n",
    "ax.set_axisbelow(True)\n",
    "\n"
   ]
  },
  {
   "cell_type": "code",
   "execution_count": 58,
   "metadata": {},
   "outputs": [
    {
     "data": {
      "text/html": [
       "<div>\n",
       "<style scoped>\n",
       "    .dataframe tbody tr th:only-of-type {\n",
       "        vertical-align: middle;\n",
       "    }\n",
       "\n",
       "    .dataframe tbody tr th {\n",
       "        vertical-align: top;\n",
       "    }\n",
       "\n",
       "    .dataframe thead th {\n",
       "        text-align: right;\n",
       "    }\n",
       "</style>\n",
       "<table border=\"1\" class=\"dataframe\">\n",
       "  <thead>\n",
       "    <tr style=\"text-align: right;\">\n",
       "      <th></th>\n",
       "      <th>borough</th>\n",
       "      <th>number_of_complaints</th>\n",
       "    </tr>\n",
       "  </thead>\n",
       "  <tbody>\n",
       "    <tr>\n",
       "      <th>0</th>\n",
       "      <td>Manhattan</td>\n",
       "      <td>181.747748</td>\n",
       "    </tr>\n",
       "    <tr>\n",
       "      <th>1</th>\n",
       "      <td>Bronx</td>\n",
       "      <td>158.776343</td>\n",
       "    </tr>\n",
       "    <tr>\n",
       "      <th>2</th>\n",
       "      <td>Brooklyn</td>\n",
       "      <td>151.430729</td>\n",
       "    </tr>\n",
       "    <tr>\n",
       "      <th>3</th>\n",
       "      <td>Staten Island</td>\n",
       "      <td>114.942289</td>\n",
       "    </tr>\n",
       "    <tr>\n",
       "      <th>4</th>\n",
       "      <td>Queens</td>\n",
       "      <td>71.636287</td>\n",
       "    </tr>\n",
       "  </tbody>\n",
       "</table>\n",
       "</div>"
      ],
      "text/plain": [
       "         borough  number_of_complaints\n",
       "0      Manhattan            181.747748\n",
       "1          Bronx            158.776343\n",
       "2       Brooklyn            151.430729\n",
       "3  Staten Island            114.942289\n",
       "4         Queens             71.636287"
      ]
     },
     "execution_count": 58,
     "metadata": {},
     "output_type": "execute_result"
    }
   ],
   "source": [
    "borough_pop = pd.DataFrame({\n",
    "    'borough': ['Manhattan', 'Bronx', 'Brooklyn', 'Staten Island', 'Queens'],\n",
    "    'number_of_complaints': [30261/1665000*10000, 23356/1471000*10000, 40114/2649000*10000, 5511/479458*10000, 16899/2359000*10000]\n",
    "})\n",
    "borough_pop"
   ]
  },
  {
   "cell_type": "code",
   "execution_count": 60,
   "metadata": {},
   "outputs": [
    {
     "data": {
      "image/png": "[encoded data removed]",
      "text/plain": [
       "<Waffle size 1800x1800 with 1 Axes>"
      ]
     },
     "metadata": {},
     "output_type": "display_data"
    }
   ],
   "source": [
    "fig = plt.figure(\n",
    "    FigureClass=Waffle, \n",
    "    rows=15,\n",
    "    values=borough_pop.number_of_complaints,\n",
    "    labels=list(borough_pop.borough),\n",
    "    figsize=(25, 25),\n",
    "    colors=(\"#fd6378\", \"#b7b7b7\", \"#137083\", \"#3d0240\", '#8fecc8'),\n",
    "    legend={'loc': 'upper left', 'bbox_to_anchor': (1.1, 1), 'framealpha': 0}\n",
    ")\n",
    "\n",
    "fig.gca().set_facecolor('#fad3e3')\n",
    "fig.set_facecolor('#fae3e3')\n"
   ]
  },
  {
   "cell_type": "markdown",
   "metadata": {},
   "source": [
    "### Community Board frequency?"
   ]
  },
  {
   "cell_type": "code",
   "execution_count": 48,
   "metadata": {},
   "outputs": [
    {
     "data": {
      "text/plain": [
       "<matplotlib.axes._subplots.AxesSubplot at 0x128c62750>"
      ]
     },
     "execution_count": 48,
     "metadata": {},
     "output_type": "execute_result"
    },
    {
     "data": {
      "image/png": "[encoded data removed]",
      "text/plain": [
       "<Figure size 720x576 with 1 Axes>"
      ]
     },
     "metadata": {
      "needs_background": "light"
     },
     "output_type": "display_data"
    }
   ],
   "source": [
    "df['Community Board'].value_counts().head(10).sort_values(ascending=True).plot(kind='barh', figsize=(10,8))"
   ]
  },
  {
   "cell_type": "markdown",
   "metadata": {},
   "source": [
    "### What streets have the most rat sightings?"
   ]
  },
  {
   "cell_type": "code",
   "execution_count": 49,
   "metadata": {},
   "outputs": [
    {
     "data": {
      "text/plain": [
       "<matplotlib.axes._subplots.AxesSubplot at 0x128d7c690>"
      ]
     },
     "execution_count": 49,
     "metadata": {},
     "output_type": "execute_result"
    },
    {
     "data": {
      "image/png": "[encoded data removed]",
      "text/plain": [
       "<Figure size 720x576 with 1 Axes>"
      ]
     },
     "metadata": {
      "needs_background": "light"
     },
     "output_type": "display_data"
    }
   ],
   "source": [
    "df['Street Name'].value_counts().head(10).sort_values(ascending=True).plot(kind='barh', figsize=(10,8))"
   ]
  },
  {
   "cell_type": "code",
   "execution_count": null,
   "metadata": {},
   "outputs": [],
   "source": []
  }
 ],
 "metadata": {
  "kernelspec": {
   "display_name": "Python 3",
   "language": "python",
   "name": "python3"
  },
  "language_info": {
   "codemirror_mode": {
    "name": "ipython",
    "version": 3
   },
   "file_extension": ".py",
   "mimetype": "text/x-python",
   "name": "python",
   "nbconvert_exporter": "python",
   "pygments_lexer": "ipython3",
   "version": "3.7.5"
  }
 },
 "nbformat": 4,
 "nbformat_minor": 2
}
